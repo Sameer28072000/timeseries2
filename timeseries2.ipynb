{
 "cells": [
  {
   "cell_type": "markdown",
   "id": "8ea62b31-cdda-47e7-ac6c-d4b35c5d5a85",
   "metadata": {},
   "source": [
    "Q1. What is meant by time-dependent seasonal components?"
   ]
  },
  {
   "cell_type": "code",
   "execution_count": null,
   "id": "c19de195-1cb3-4e3a-8df3-c6de5c945226",
   "metadata": {},
   "outputs": [],
   "source": [
    "Ans:-Time-dependent seasonal components refer to the patterns in a time series data \n",
    "       that exhibit seasonality but change over time."
   ]
  },
  {
   "cell_type": "markdown",
   "id": "e3553445-6aec-4bf7-96ff-c9025abd6b2e",
   "metadata": {},
   "source": [
    "Q2. How can time-dependent seasonal components be identified in time series data?"
   ]
  },
  {
   "cell_type": "code",
   "execution_count": null,
   "id": "16543674-0e2e-4240-b46a-b970911fc34c",
   "metadata": {},
   "outputs": [],
   "source": [
    "Ans:-These are the components of time-dependent:-\n",
    "       i.visual inspection\n",
    "         ii.seasonal decomposition\n",
    "           iii.ACF & PACF\n",
    "             iv.statistical test"
   ]
  },
  {
   "cell_type": "markdown",
   "id": "7a86e67b-3013-4eb6-8003-6e4cb5cab6d9",
   "metadata": {},
   "source": [
    "Q3. What are the factors that can influence time-dependent seasonal components?"
   ]
  },
  {
   "cell_type": "code",
   "execution_count": null,
   "id": "96a2a2eb-e44c-4cdb-a485-27cffad2ee8f",
   "metadata": {},
   "outputs": [],
   "source": [
    "Ans:-The factors that can influence time-dependent seasonal components:-\n",
    "       i.calendar effects\n",
    "        ii.environmental factors\n",
    "          iii.economical factors\n",
    "            iv.social factors\n",
    "             v.business factors"
   ]
  },
  {
   "cell_type": "markdown",
   "id": "8cc45108-ddd9-45d0-a2db-4e1c5625081b",
   "metadata": {},
   "source": [
    "Q4. How are autoregression models used in time series analysis and forecasting?"
   ]
  },
  {
   "cell_type": "code",
   "execution_count": null,
   "id": "71def127-2af7-498f-962a-5388b232a812",
   "metadata": {},
   "outputs": [],
   "source": [
    "Ans:-\n",
    "      Autoregression (AR) models are a class of models used in time series analysis and \n",
    "        forecasting to capture the relationship between an observation and a certain number."
   ]
  },
  {
   "cell_type": "markdown",
   "id": "003cd516-7de2-47e4-9699-8e517348348a",
   "metadata": {},
   "source": [
    "Q5. How do you use autoregression models to make predictions for future time points?"
   ]
  },
  {
   "cell_type": "code",
   "execution_count": null,
   "id": "57d8e628-1027-445c-a1d0-42df2b7bc21b",
   "metadata": {},
   "outputs": [],
   "source": [
    "Ans:- Steps of autoregression models to make predictions:-\n",
    "       i.train the AR model\n",
    "        ii.determine the model order\n",
    "          iii.prepare the input for prediction\n",
    "            iv.make prediction"
   ]
  },
  {
   "cell_type": "markdown",
   "id": "19ba7e31-5514-4f0a-81e3-699a6663765f",
   "metadata": {},
   "source": [
    "Q6. What is a moving average (MA) model and how does it differ from other time series models?"
   ]
  },
  {
   "cell_type": "code",
   "execution_count": null,
   "id": "4f2d715e-ffd0-4208-93f6-c1ad193e2d72",
   "metadata": {},
   "outputs": [],
   "source": [
    "Ans:-A Moving Average (MA) model is a time series model that is used to\n",
    "        explain the present value of a series based on past error terms (residuals).\n",
    "    \n",
    "    The main difference between an MA model and other time series models:-\n",
    "      i.AR model(Auto regressive)\n",
    "        ii.ARIMA(Auto regressive with integration moving average)\n",
    "          iii.ARMA(Auto regressive moving average)\n",
    "     "
   ]
  },
  {
   "cell_type": "markdown",
   "id": "5a09fb56-010f-46c4-9184-724c4c75a08b",
   "metadata": {},
   "source": [
    "Q7. What is a mixed ARMA model and how does it differ from an AR or MA model?"
   ]
  },
  {
   "cell_type": "code",
   "execution_count": null,
   "id": "9faddb28-80bf-4a81-8077-e66437d0678a",
   "metadata": {},
   "outputs": [],
   "source": [
    "Ans:-Combines both autoregressive (AR) and moving average (MA) components to model a time series.\n",
    "       It is an extension of both AR and MA models.\n",
    "    \n",
    "    "
   ]
  }
 ],
 "metadata": {
  "kernelspec": {
   "display_name": "Python 3 (ipykernel)",
   "language": "python",
   "name": "python3"
  },
  "language_info": {
   "codemirror_mode": {
    "name": "ipython",
    "version": 3
   },
   "file_extension": ".py",
   "mimetype": "text/x-python",
   "name": "python",
   "nbconvert_exporter": "python",
   "pygments_lexer": "ipython3",
   "version": "3.10.8"
  }
 },
 "nbformat": 4,
 "nbformat_minor": 5
}
